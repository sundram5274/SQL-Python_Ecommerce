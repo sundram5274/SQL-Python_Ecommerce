{
 "cells": [
  {
   "cell_type": "code",
   "execution_count": 1,
   "id": "603d9387-5b5b-42bd-88c2-b951c2ce3cb0",
   "metadata": {},
   "outputs": [
    {
     "name": "stdout",
     "output_type": "stream",
     "text": [
      "Defaulting to user installation because normal site-packages is not writeable\n",
      "Requirement already satisfied: mysql-connector-python in c:\\users\\asus\\appdata\\roaming\\python\\python312\\site-packages (9.3.0)\n",
      "Note: you may need to restart the kernel to use updated packages.\n"
     ]
    }
   ],
   "source": [
    "pip install mysql-connector-python "
   ]
  },
  {
   "cell_type": "code",
   "execution_count": 2,
   "id": "6012a6a7-2d35-45df-9d8d-e3a05b0a0071",
   "metadata": {},
   "outputs": [
    {
     "name": "stdout",
     "output_type": "stream",
     "text": [
      "Processing customers.csv\n",
      "NaN values before replacement:\n",
      "customer_id                 0\n",
      "customer_unique_id          0\n",
      "customer_zip_code_prefix    0\n",
      "customer_city               0\n",
      "customer_state              0\n",
      "dtype: int64\n",
      "\n",
      "Processing orders.csv\n",
      "NaN values before replacement:\n",
      "order_id                            0\n",
      "customer_id                         0\n",
      "order_status                        0\n",
      "order_purchase_timestamp            0\n",
      "order_approved_at                 160\n",
      "order_delivered_carrier_date     1783\n",
      "order_delivered_customer_date    2965\n",
      "order_estimated_delivery_date       0\n",
      "dtype: int64\n",
      "\n",
      "Processing sellers.csv\n",
      "NaN values before replacement:\n",
      "seller_id                 0\n",
      "seller_zip_code_prefix    0\n",
      "seller_city               0\n",
      "seller_state              0\n",
      "dtype: int64\n",
      "\n",
      "Processing products.csv\n",
      "NaN values before replacement:\n",
      "product_id                      0\n",
      "product category              610\n",
      "product_name_length           610\n",
      "product_description_length    610\n",
      "product_photos_qty            610\n",
      "product_weight_g                2\n",
      "product_length_cm               2\n",
      "product_height_cm               2\n",
      "product_width_cm                2\n",
      "dtype: int64\n",
      "\n",
      "Processing geolocation.csv\n",
      "NaN values before replacement:\n",
      "geolocation_zip_code_prefix    0\n",
      "geolocation_lat                0\n",
      "geolocation_lng                0\n",
      "geolocation_city               0\n",
      "geolocation_state              0\n",
      "dtype: int64\n",
      "\n",
      "Processing payments.csv\n",
      "NaN values before replacement:\n",
      "order_id                0\n",
      "payment_sequential      0\n",
      "payment_type            0\n",
      "payment_installments    0\n",
      "payment_value           0\n",
      "dtype: int64\n",
      "\n",
      "Processing order_items.csv\n",
      "NaN values before replacement:\n",
      "order_id               0\n",
      "order_item_id          0\n",
      "product_id             0\n",
      "seller_id              0\n",
      "shipping_limit_date    0\n",
      "price                  0\n",
      "freight_value          0\n",
      "dtype: int64\n",
      "\n"
     ]
    }
   ],
   "source": [
    "import pandas as pd\n",
    "import mysql.connector\n",
    "import os\n",
    "\n",
    "# List of CSV files and their corresponding table names\n",
    "csv_files = [\n",
    "    ('customers.csv', 'customers'),\n",
    "    ('orders.csv', 'orders'),\n",
    "    ('sellers.csv', 'sellers'),\n",
    "    ('products.csv', 'products'),\n",
    "    ('geolocation.csv', 'geolocation'),\n",
    "    ('payments.csv', 'payments'),\n",
    "    ('order_items.csv','order_items') # Added payments.csv for specific handling\n",
    "]\n",
    "\n",
    "# Connect to the MySQL database\n",
    "conn = mysql.connector.connect(\n",
    "    host='localhost',  # or IP address, e.g., '127.0.0.1' or remote host\n",
    "    user='root',\n",
    "    password='Sundram@1234.',\n",
    "    database='ecommerce'\n",
    ")\n",
    "\n",
    "cursor = conn.cursor()\n",
    "\n",
    "# Folder containing the CSV files\n",
    "folder_path = 'C:/Users/Asus/Desktop/Ecommerce'\n",
    "\n",
    "def get_sql_type(dtype):\n",
    "    if pd.api.types.is_integer_dtype(dtype):\n",
    "        return 'INT'\n",
    "    elif pd.api.types.is_float_dtype(dtype):\n",
    "        return 'FLOAT'\n",
    "    elif pd.api.types.is_bool_dtype(dtype):\n",
    "        return 'BOOLEAN'\n",
    "    elif pd.api.types.is_datetime64_any_dtype(dtype):\n",
    "        return 'DATETIME'\n",
    "    else:\n",
    "        return 'TEXT'\n",
    "\n",
    "for csv_file, table_name in csv_files:\n",
    "    file_path = os.path.join(folder_path, csv_file)\n",
    "    \n",
    "    # Read the CSV file into a pandas DataFrame\n",
    "    df = pd.read_csv(file_path)\n",
    "    \n",
    "    # Replace NaN with None to handle SQL NULL\n",
    "    df = df.where(pd.notnull(df), None)\n",
    "    \n",
    "    # Debugging: Check for NaN values\n",
    "    print(f\"Processing {csv_file}\")\n",
    "    print(f\"NaN values before replacement:\\n{df.isnull().sum()}\\n\")\n",
    "\n",
    "    # Clean column names\n",
    "    df.columns = [col.replace(' ', '_').replace('-', '_').replace('.', '_') for col in df.columns]\n",
    "\n",
    "    # Generate the CREATE TABLE statement with appropriate data types\n",
    "    columns = ', '.join([f'`{col}` {get_sql_type(df[col].dtype)}' for col in df.columns])\n",
    "    create_table_query = f'CREATE TABLE IF NOT EXISTS `{table_name}` ({columns})'\n",
    "    cursor.execute(create_table_query)\n",
    "\n",
    "    # Insert DataFrame data into the MySQL table\n",
    "    for _, row in df.iterrows():\n",
    "        # Convert row to tuple and handle NaN/None explicitly\n",
    "        values = tuple(None if pd.isna(x) else x for x in row)\n",
    "        sql = f\"INSERT INTO `{table_name}` ({', '.join(['`' + col + '`' for col in df.columns])}) VALUES ({', '.join(['%s'] * len(row))})\"\n",
    "        cursor.execute(sql, values)\n",
    "\n",
    "    # Commit the transaction for the current CSV file\n",
    "    conn.commit()\n",
    "\n",
    "# Close the connection\n",
    "conn.close()"
   ]
  },
  {
   "cell_type": "code",
   "execution_count": 3,
   "id": "5023360d-87f4-4e18-89f4-9726f3b5c759",
   "metadata": {},
   "outputs": [],
   "source": [
    "import pandas as pd\n",
    "import matplotlib.pyplot as plt\n",
    "import seaborn as sns\n",
    "import mysql.connector\n",
    "\n",
    "db=mysql.connector.connect(\n",
    "    host='localhost',  # or IP address, e.g., '127.0.0.1' or remote host\n",
    "    user='root',\n",
    "    password='Sundram@1234.',\n",
    "    database='ecommerce'\n",
    ")\n",
    "cur=db.cursor()"
   ]
  },
  {
   "cell_type": "markdown",
   "id": "827c9849-a69b-41b0-a4d6-8b8a577e2f78",
   "metadata": {},
   "source": [
    "# List all unique cities where customers are located."
   ]
  },
  {
   "cell_type": "code",
   "execution_count": 4,
   "id": "d6a322df-80d4-43c8-ab24-50405301804e",
   "metadata": {},
   "outputs": [
    {
     "data": {
      "text/html": [
       "<div>\n",
       "<style scoped>\n",
       "    .dataframe tbody tr th:only-of-type {\n",
       "        vertical-align: middle;\n",
       "    }\n",
       "\n",
       "    .dataframe tbody tr th {\n",
       "        vertical-align: top;\n",
       "    }\n",
       "\n",
       "    .dataframe thead th {\n",
       "        text-align: right;\n",
       "    }\n",
       "</style>\n",
       "<table border=\"1\" class=\"dataframe\">\n",
       "  <thead>\n",
       "    <tr style=\"text-align: right;\">\n",
       "      <th></th>\n",
       "      <th>0</th>\n",
       "    </tr>\n",
       "  </thead>\n",
       "  <tbody>\n",
       "    <tr>\n",
       "      <th>0</th>\n",
       "      <td>franca</td>\n",
       "    </tr>\n",
       "    <tr>\n",
       "      <th>1</th>\n",
       "      <td>sao bernardo do campo</td>\n",
       "    </tr>\n",
       "    <tr>\n",
       "      <th>2</th>\n",
       "      <td>sao paulo</td>\n",
       "    </tr>\n",
       "    <tr>\n",
       "      <th>3</th>\n",
       "      <td>mogi das cruzes</td>\n",
       "    </tr>\n",
       "    <tr>\n",
       "      <th>4</th>\n",
       "      <td>campinas</td>\n",
       "    </tr>\n",
       "  </tbody>\n",
       "</table>\n",
       "</div>"
      ],
      "text/plain": [
       "                       0\n",
       "0                 franca\n",
       "1  sao bernardo do campo\n",
       "2              sao paulo\n",
       "3        mogi das cruzes\n",
       "4               campinas"
      ]
     },
     "execution_count": 4,
     "metadata": {},
     "output_type": "execute_result"
    }
   ],
   "source": [
    "query=\"\"\"select distinct customer_city from customers\"\"\"\n",
    "cur.execute(query)\n",
    "data=cur.fetchall()\n",
    "data\n",
    "df=pd.DataFrame(data)\n",
    "df.head()"
   ]
  },
  {
   "cell_type": "markdown",
   "id": "aa00dccd-273b-416c-a5ec-e3c2eb2e58ea",
   "metadata": {},
   "source": [
    "# Count the number of orders placed in 2017."
   ]
  },
  {
   "cell_type": "code",
   "execution_count": 5,
   "id": "01c6826a-dc9e-491d-abb2-f69cf5819e0c",
   "metadata": {},
   "outputs": [
    {
     "name": "stdout",
     "output_type": "stream",
     "text": [
      "total orders placed in 2017 are 135303\n"
     ]
    }
   ],
   "source": [
    "query=\"\"\"select count(order_id) from ecommerce.orders where year(order_purchase_timestamp)='2017'\"\"\"\n",
    "cur.execute(query)\n",
    "data=cur.fetchall()\n",
    "print(\"total orders placed in 2017 are\",data[0][0])"
   ]
  },
  {
   "cell_type": "markdown",
   "id": "dd8705b6-7c93-4a63-80d3-9c27a08d6739",
   "metadata": {},
   "source": [
    "# Find the total sales per category."
   ]
  },
  {
   "cell_type": "code",
   "execution_count": 6,
   "id": "e0d48432-b62d-4703-804c-08ec2e9c225c",
   "metadata": {},
   "outputs": [
    {
     "data": {
      "text/html": [
       "<div>\n",
       "<style scoped>\n",
       "    .dataframe tbody tr th:only-of-type {\n",
       "        vertical-align: middle;\n",
       "    }\n",
       "\n",
       "    .dataframe tbody tr th {\n",
       "        vertical-align: top;\n",
       "    }\n",
       "\n",
       "    .dataframe thead th {\n",
       "        text-align: right;\n",
       "    }\n",
       "</style>\n",
       "<table border=\"1\" class=\"dataframe\">\n",
       "  <thead>\n",
       "    <tr style=\"text-align: right;\">\n",
       "      <th></th>\n",
       "      <th>Category</th>\n",
       "      <th>Sales</th>\n",
       "    </tr>\n",
       "  </thead>\n",
       "  <tbody>\n",
       "    <tr>\n",
       "      <th>0</th>\n",
       "      <td>perfumery</td>\n",
       "      <td>13681943.82</td>\n",
       "    </tr>\n",
       "    <tr>\n",
       "      <th>1</th>\n",
       "      <td>Furniture Decoration</td>\n",
       "      <td>38614762.58</td>\n",
       "    </tr>\n",
       "    <tr>\n",
       "      <th>2</th>\n",
       "      <td>telephony</td>\n",
       "      <td>13145815.37</td>\n",
       "    </tr>\n",
       "    <tr>\n",
       "      <th>3</th>\n",
       "      <td>bed table bath</td>\n",
       "      <td>46238949.12</td>\n",
       "    </tr>\n",
       "    <tr>\n",
       "      <th>4</th>\n",
       "      <td>automotive</td>\n",
       "      <td>23011946.94</td>\n",
       "    </tr>\n",
       "    <tr>\n",
       "      <th>...</th>\n",
       "      <td>...</td>\n",
       "      <td>...</td>\n",
       "    </tr>\n",
       "    <tr>\n",
       "      <th>69</th>\n",
       "      <td>cds music dvds</td>\n",
       "      <td>32384.61</td>\n",
       "    </tr>\n",
       "    <tr>\n",
       "      <th>70</th>\n",
       "      <td>La Cuisine</td>\n",
       "      <td>78665.31</td>\n",
       "    </tr>\n",
       "    <tr>\n",
       "      <th>71</th>\n",
       "      <td>Fashion Children's Clothing</td>\n",
       "      <td>21213.09</td>\n",
       "    </tr>\n",
       "    <tr>\n",
       "      <th>72</th>\n",
       "      <td>PC Gamer</td>\n",
       "      <td>58709.61</td>\n",
       "    </tr>\n",
       "    <tr>\n",
       "      <th>73</th>\n",
       "      <td>insurance and services</td>\n",
       "      <td>8761.77</td>\n",
       "    </tr>\n",
       "  </tbody>\n",
       "</table>\n",
       "<p>74 rows × 2 columns</p>\n",
       "</div>"
      ],
      "text/plain": [
       "                       Category        Sales\n",
       "0                     perfumery  13681943.82\n",
       "1          Furniture Decoration  38614762.58\n",
       "2                     telephony  13145815.37\n",
       "3                bed table bath  46238949.12\n",
       "4                    automotive  23011946.94\n",
       "..                          ...          ...\n",
       "69               cds music dvds     32384.61\n",
       "70                   La Cuisine     78665.31\n",
       "71  Fashion Children's Clothing     21213.09\n",
       "72                     PC Gamer     58709.61\n",
       "73       insurance and services      8761.77\n",
       "\n",
       "[74 rows x 2 columns]"
      ]
     },
     "execution_count": 6,
     "metadata": {},
     "output_type": "execute_result"
    }
   ],
   "source": [
    "query=\"\"\"select products.product_category as category, \n",
    "round(sum(payments.payment_value),2) as sales from ecommerce.products \n",
    "join ecommerce.order_items\n",
    "on order_items.product_id=products.product_id \n",
    "join ecommerce.payments\n",
    "on payments.order_id=order_items.order_id\n",
    "group by product_category\"\"\"\n",
    "cur.execute(query)\n",
    "data=cur.fetchall()\n",
    "data\n",
    "df=pd.DataFrame(data,columns=[\"Category\",\"Sales\"])\n",
    "df"
   ]
  },
  {
   "cell_type": "markdown",
   "id": "0b49ccfd-ac02-4324-9b11-00ae81c26069",
   "metadata": {},
   "source": [
    "# Calculate the percentage of orders that were paid in installments."
   ]
  },
  {
   "cell_type": "code",
   "execution_count": 7,
   "id": "9d587f6d-bfbf-479e-ab5c-94791de8f20d",
   "metadata": {},
   "outputs": [
    {
     "name": "stdout",
     "output_type": "stream",
     "text": [
      "The percentage of orders that were paid in installments is 99.9981\n"
     ]
    }
   ],
   "source": [
    "query=\"\"\"select (sum(case when payment_installments>=1 then 1 \n",
    "else 0 end )/count(*)*100) from ecommerce.payments \"\"\"\n",
    "cur.execute(query)\n",
    "data=cur.fetchall()\n",
    "print(\"The percentage of orders that were paid in installments is\",data[0][0])"
   ]
  },
  {
   "cell_type": "markdown",
   "id": "0d793440-f398-456d-8018-82e664eb4413",
   "metadata": {},
   "source": [
    "# Count the number of customers from each state"
   ]
  },
  {
   "cell_type": "code",
   "execution_count": 8,
   "id": "a98e9f58-2c97-4abe-80a5-adc24149d3f7",
   "metadata": {},
   "outputs": [
    {
     "name": "stdout",
     "output_type": "stream",
     "text": [
      "   State  No of customers\n",
      "0     SP           125238\n",
      "1     SC            10911\n",
      "2     MG            34905\n",
      "3     PR            15135\n",
      "4     RJ            38556\n",
      "5     RS            16398\n",
      "6     PA             2925\n",
      "7     GO             6060\n",
      "8     ES             6099\n",
      "9     BA            10140\n",
      "10    MA             2241\n",
      "11    MS             2145\n",
      "12    CE             4008\n",
      "13    DF             6420\n",
      "14    RN             1455\n",
      "15    PE             4956\n",
      "16    MT             2721\n",
      "17    AM              444\n",
      "18    AP              204\n",
      "19    AL             1239\n",
      "20    RO              759\n",
      "21    PB             1608\n",
      "22    TO              840\n",
      "23    PI             1485\n",
      "24    AC              243\n",
      "25    SE             1050\n",
      "26    RR              138\n"
     ]
    },
    {
     "data": {
      "image/png": "[encoded data removed]",
      "text/plain": [
       "<Figure size 640x480 with 1 Axes>"
      ]
     },
     "metadata": {},
     "output_type": "display_data"
    }
   ],
   "source": [
    "query=\"\"\"select customer_state,count(customer_id) from ecommerce.customers group by \n",
    "customer_state\"\"\"\n",
    "cur.execute(query)\n",
    "data=cur.fetchall()\n",
    "data\n",
    "df=pd.DataFrame(data,columns=[\"State\",\"No of customers\"])\n",
    "print(df)\n",
    "plt.bar(df[\"State\"],df[\"No of customers\"])\n",
    "plt.xticks(rotation='vertical')\n",
    "plt.show()"
   ]
  },
  {
   "cell_type": "markdown",
   "id": "6d1f05cf-abd0-4800-8708-f07f4a5ef7fd",
   "metadata": {},
   "source": [
    "# Calculate the number of orders per month in 2018."
   ]
  },
  {
   "cell_type": "code",
   "execution_count": 9,
   "id": "d313c661-88b8-4e55-90c3-932a9a083a63",
   "metadata": {},
   "outputs": [
    {
     "data": {
      "image/png": "[encoded data removed]",
      "text/plain": [
       "<Figure size 640x480 with 1 Axes>"
      ]
     },
     "metadata": {},
     "output_type": "display_data"
    }
   ],
   "source": [
    "query=\"\"\"select monthname(order_purchase_timestamp) as Months\n",
    ",count(order_id) from ecommerce.orders where \n",
    "year(order_purchase_timestamp)=2018\n",
    "group by months; \"\"\"\n",
    "cur.execute(query)\n",
    "data=cur.fetchall()\n",
    "data\n",
    "df=pd.DataFrame(data,columns=[\"Months\",\"order_count\"])\n",
    "o=[\"January\",\"February\",\"March\",\"April\",\"May\",\"June\",\"July\",\"August\",\"September\",\"October\"]\n",
    "ax=sns.barplot(x=df[\"Months\"],y=df[\"order_count\"],data=df,order=o)\n",
    "plt.xticks(rotation=45)\n",
    "ax.bar_label(ax.containers[0])\n",
    "plt.title(\"Count of Orders by Months in 2018\")\n",
    "plt.show()                            "
   ]
  },
  {
   "cell_type": "markdown",
   "id": "5500964a-0d6d-40ea-aad8-2183cfa7a2d7",
   "metadata": {},
   "source": [
    "# Find the average number of products per order, grouped by customer city."
   ]
  },
  {
   "cell_type": "code",
   "execution_count": 10,
   "id": "c417109b-ba72-491c-ba83-1f5c8ac13a9e",
   "metadata": {
    "scrolled": true
   },
   "outputs": [
    {
     "data": {
      "text/html": [
       "<div>\n",
       "<style scoped>\n",
       "    .dataframe tbody tr th:only-of-type {\n",
       "        vertical-align: middle;\n",
       "    }\n",
       "\n",
       "    .dataframe tbody tr th {\n",
       "        vertical-align: top;\n",
       "    }\n",
       "\n",
       "    .dataframe thead th {\n",
       "        text-align: right;\n",
       "    }\n",
       "</style>\n",
       "<table border=\"1\" class=\"dataframe\">\n",
       "  <thead>\n",
       "    <tr style=\"text-align: right;\">\n",
       "      <th></th>\n",
       "      <th>Customer_City</th>\n",
       "      <th>Average number of Products per Order</th>\n",
       "    </tr>\n",
       "  </thead>\n",
       "  <tbody>\n",
       "    <tr>\n",
       "      <th>0</th>\n",
       "      <td>padre carvalho</td>\n",
       "      <td>63.00</td>\n",
       "    </tr>\n",
       "    <tr>\n",
       "      <th>1</th>\n",
       "      <td>celso ramos</td>\n",
       "      <td>58.50</td>\n",
       "    </tr>\n",
       "    <tr>\n",
       "      <th>2</th>\n",
       "      <td>datas</td>\n",
       "      <td>54.00</td>\n",
       "    </tr>\n",
       "    <tr>\n",
       "      <th>3</th>\n",
       "      <td>candido godoi</td>\n",
       "      <td>54.00</td>\n",
       "    </tr>\n",
       "    <tr>\n",
       "      <th>4</th>\n",
       "      <td>matias olimpio</td>\n",
       "      <td>45.00</td>\n",
       "    </tr>\n",
       "  </tbody>\n",
       "</table>\n",
       "</div>"
      ],
      "text/plain": [
       "    Customer_City Average number of Products per Order\n",
       "0  padre carvalho                                63.00\n",
       "1     celso ramos                                58.50\n",
       "2           datas                                54.00\n",
       "3   candido godoi                                54.00\n",
       "4  matias olimpio                                45.00"
      ]
     },
     "execution_count": 10,
     "metadata": {},
     "output_type": "execute_result"
    }
   ],
   "source": [
    "\n",
    "query=\"\"\"select c.customer_city, round(avg(order_product_count),2) as opc\n",
    "from (\n",
    "\t\tselect o.order_id,o.customer_id, count(oc.order_id) as order_product_count \n",
    "        from ecommerce.orders o join ecommerce.order_items oc on o.order_id=oc.order_id\n",
    "        group by o.order_id,o.customer_id\n",
    "\t\t\n",
    ") as sub join ecommerce.customers c on sub.customer_id= c. customer_id\n",
    "group by c.customer_city order by opc desc\"\"\"\n",
    "cur.execute(query)\n",
    "data=cur.fetchall()\n",
    "data\n",
    "df=pd.DataFrame(data,columns=[\"Customer_City\",\"Average number of Products per Order\"])\n",
    "df.head()"
   ]
  },
  {
   "cell_type": "markdown",
   "id": "81f4a099-54e3-4858-bbb6-c381bea0dced",
   "metadata": {},
   "source": [
    "# Calculate the percentage of total revenue contributed by each product category."
   ]
  },
  {
   "cell_type": "code",
   "execution_count": 11,
   "id": "2e4addad-d17c-426d-a905-2f26091fa772",
   "metadata": {},
   "outputs": [
    {
     "data": {
      "text/html": [
       "<div>\n",
       "<style scoped>\n",
       "    .dataframe tbody tr th:only-of-type {\n",
       "        vertical-align: middle;\n",
       "    }\n",
       "\n",
       "    .dataframe tbody tr th {\n",
       "        vertical-align: top;\n",
       "    }\n",
       "\n",
       "    .dataframe thead th {\n",
       "        text-align: right;\n",
       "    }\n",
       "</style>\n",
       "<table border=\"1\" class=\"dataframe\">\n",
       "  <thead>\n",
       "    <tr style=\"text-align: right;\">\n",
       "      <th></th>\n",
       "      <th>Category</th>\n",
       "      <th>Sales</th>\n",
       "    </tr>\n",
       "  </thead>\n",
       "  <tbody>\n",
       "    <tr>\n",
       "      <th>0</th>\n",
       "      <td>bed table bath</td>\n",
       "      <td>96.28</td>\n",
       "    </tr>\n",
       "    <tr>\n",
       "      <th>1</th>\n",
       "      <td>HEALTH BEAUTY</td>\n",
       "      <td>93.18</td>\n",
       "    </tr>\n",
       "    <tr>\n",
       "      <th>2</th>\n",
       "      <td>computer accessories</td>\n",
       "      <td>89.13</td>\n",
       "    </tr>\n",
       "    <tr>\n",
       "      <th>3</th>\n",
       "      <td>Furniture Decoration</td>\n",
       "      <td>80.40</td>\n",
       "    </tr>\n",
       "    <tr>\n",
       "      <th>4</th>\n",
       "      <td>Watches present</td>\n",
       "      <td>80.35</td>\n",
       "    </tr>\n",
       "  </tbody>\n",
       "</table>\n",
       "</div>"
      ],
      "text/plain": [
       "               Category  Sales\n",
       "0        bed table bath  96.28\n",
       "1         HEALTH BEAUTY  93.18\n",
       "2  computer accessories  89.13\n",
       "3  Furniture Decoration  80.40\n",
       "4       Watches present  80.35"
      ]
     },
     "execution_count": 11,
     "metadata": {},
     "output_type": "execute_result"
    }
   ],
   "source": [
    " query=\"\"\"select products.product_category as category, \n",
    "round((sum(payments.payment_value)/(select sum(payment_value) from ecommerce.payments))*100,2) as sales_percentage from ecommerce.products \n",
    "join ecommerce.order_items\n",
    "on order_items.product_id=products.product_id \n",
    "join ecommerce.payments\n",
    "on payments.order_id=order_items.order_id\n",
    "group by product_category order by sales_percentage desc;\"\"\"\n",
    "cur.execute(query)\n",
    "data=cur.fetchall()\n",
    "data\n",
    "df=pd.DataFrame(data,columns=[\"Category\",\"Sales\"])\n",
    "df.head()"
   ]
  },
  {
   "cell_type": "markdown",
   "id": "fb47522c-ad99-452c-8079-bf998735317b",
   "metadata": {},
   "source": [
    "# Identify the correlation between product price and the number of times a product has been purchased."
   ]
  },
  {
   "cell_type": "code",
   "execution_count": null,
   "id": "af8d7147-2fc9-44d1-abd2-9b4e5d9dc1cd",
   "metadata": {},
   "outputs": [],
   "source": []
  },
  {
   "cell_type": "markdown",
   "id": "4b680339-4d8a-4d07-a166-ca1aa0046ac7",
   "metadata": {},
   "source": [
    "# Calculate the total revenue generated by each seller, and rank them by revenue."
   ]
  },
  {
   "cell_type": "code",
   "execution_count": 12,
   "id": "9e1f4da2-0e54-4dfb-8c3c-baaa5ca1fa28",
   "metadata": {},
   "outputs": [
    {
     "data": {
      "text/html": [
       "<div>\n",
       "<style scoped>\n",
       "    .dataframe tbody tr th:only-of-type {\n",
       "        vertical-align: middle;\n",
       "    }\n",
       "\n",
       "    .dataframe tbody tr th {\n",
       "        vertical-align: top;\n",
       "    }\n",
       "\n",
       "    .dataframe thead th {\n",
       "        text-align: right;\n",
       "    }\n",
       "</style>\n",
       "<table border=\"1\" class=\"dataframe\">\n",
       "  <thead>\n",
       "    <tr style=\"text-align: right;\">\n",
       "      <th></th>\n",
       "      <th>Seller ID</th>\n",
       "      <th>Toatl Revenue</th>\n",
       "      <th>Rank</th>\n",
       "    </tr>\n",
       "  </thead>\n",
       "  <tbody>\n",
       "    <tr>\n",
       "      <th>0</th>\n",
       "      <td>7c67e1448b00f6e969d365cea6b010ab</td>\n",
       "      <td>4.564502e+06</td>\n",
       "      <td>1</td>\n",
       "    </tr>\n",
       "    <tr>\n",
       "      <th>1</th>\n",
       "      <td>1025f0e2d44d7041d6cf58b6550e0bfa</td>\n",
       "      <td>2.773998e+06</td>\n",
       "      <td>2</td>\n",
       "    </tr>\n",
       "    <tr>\n",
       "      <th>2</th>\n",
       "      <td>4a3ca9315b744ce9f8e9374361493884</td>\n",
       "      <td>2.711207e+06</td>\n",
       "      <td>3</td>\n",
       "    </tr>\n",
       "    <tr>\n",
       "      <th>3</th>\n",
       "      <td>1f50f920176fa81dab994f9023523100</td>\n",
       "      <td>2.612281e+06</td>\n",
       "      <td>4</td>\n",
       "    </tr>\n",
       "    <tr>\n",
       "      <th>4</th>\n",
       "      <td>53243585a1d6dc2643021fd1853d8905</td>\n",
       "      <td>2.564128e+06</td>\n",
       "      <td>5</td>\n",
       "    </tr>\n",
       "  </tbody>\n",
       "</table>\n",
       "</div>"
      ],
      "text/plain": [
       "                          Seller ID  Toatl Revenue  Rank\n",
       "0  7c67e1448b00f6e969d365cea6b010ab   4.564502e+06     1\n",
       "1  1025f0e2d44d7041d6cf58b6550e0bfa   2.773998e+06     2\n",
       "2  4a3ca9315b744ce9f8e9374361493884   2.711207e+06     3\n",
       "3  1f50f920176fa81dab994f9023523100   2.612281e+06     4\n",
       "4  53243585a1d6dc2643021fd1853d8905   2.564128e+06     5"
      ]
     },
     "execution_count": 12,
     "metadata": {},
     "output_type": "execute_result"
    }
   ],
   "source": [
    "query=\"\"\"select * ,\n",
    "\t\tdense_rank() over (order by total_revenue desc) from (select oi.seller_id, sum(pay.payment_value) as total_revenue from ecommerce.order_items oi join \n",
    "ecommerce.payments pay on oi.order_id=pay.order_id\n",
    "group by seller_id) as a;\"\"\"\n",
    "cur.execute(query)\n",
    "data=cur.fetchall()\n",
    "data\n",
    "df=pd.DataFrame(data,columns=[\"Seller ID\",\"Toatl Revenue\",\"Rank\"])\n",
    "df.head()"
   ]
  },
  {
   "cell_type": "markdown",
   "id": "076be1e1-04cc-473d-8936-b668db6eb3e3",
   "metadata": {},
   "source": [
    "# Calculate the moving average of order values for each customer over their order history."
   ]
  },
  {
   "cell_type": "code",
   "execution_count": 13,
   "id": "e7445a28-9ec9-4599-9577-30e4d5ce0c7b",
   "metadata": {},
   "outputs": [
    {
     "data": {
      "text/html": [
       "<div>\n",
       "<style scoped>\n",
       "    .dataframe tbody tr th:only-of-type {\n",
       "        vertical-align: middle;\n",
       "    }\n",
       "\n",
       "    .dataframe tbody tr th {\n",
       "        vertical-align: top;\n",
       "    }\n",
       "\n",
       "    .dataframe thead th {\n",
       "        text-align: right;\n",
       "    }\n",
       "</style>\n",
       "<table border=\"1\" class=\"dataframe\">\n",
       "  <thead>\n",
       "    <tr style=\"text-align: right;\">\n",
       "      <th></th>\n",
       "      <th>Customer ID</th>\n",
       "      <th>Time Stamp</th>\n",
       "      <th>Price</th>\n",
       "      <th>Moving Average</th>\n",
       "    </tr>\n",
       "  </thead>\n",
       "  <tbody>\n",
       "    <tr>\n",
       "      <th>0</th>\n",
       "      <td>00012a2ce6f8dcda20d059ce98491703</td>\n",
       "      <td>2017-11-14 16:08:26</td>\n",
       "      <td>114.74</td>\n",
       "      <td>114.739998</td>\n",
       "    </tr>\n",
       "    <tr>\n",
       "      <th>1</th>\n",
       "      <td>00012a2ce6f8dcda20d059ce98491703</td>\n",
       "      <td>2017-11-14 16:08:26</td>\n",
       "      <td>114.74</td>\n",
       "      <td>114.739998</td>\n",
       "    </tr>\n",
       "    <tr>\n",
       "      <th>2</th>\n",
       "      <td>00012a2ce6f8dcda20d059ce98491703</td>\n",
       "      <td>2017-11-14 16:08:26</td>\n",
       "      <td>114.74</td>\n",
       "      <td>114.739998</td>\n",
       "    </tr>\n",
       "    <tr>\n",
       "      <th>3</th>\n",
       "      <td>00012a2ce6f8dcda20d059ce98491703</td>\n",
       "      <td>2017-11-14 16:08:26</td>\n",
       "      <td>114.74</td>\n",
       "      <td>114.739998</td>\n",
       "    </tr>\n",
       "    <tr>\n",
       "      <th>4</th>\n",
       "      <td>00012a2ce6f8dcda20d059ce98491703</td>\n",
       "      <td>2017-11-14 16:08:26</td>\n",
       "      <td>114.74</td>\n",
       "      <td>114.739998</td>\n",
       "    </tr>\n",
       "    <tr>\n",
       "      <th>...</th>\n",
       "      <td>...</td>\n",
       "      <td>...</td>\n",
       "      <td>...</td>\n",
       "      <td>...</td>\n",
       "    </tr>\n",
       "    <tr>\n",
       "      <th>934969</th>\n",
       "      <td>ffffe8b65bbe3087b653a978c870db99</td>\n",
       "      <td>2017-09-29 14:07:03</td>\n",
       "      <td>18.37</td>\n",
       "      <td>18.370001</td>\n",
       "    </tr>\n",
       "    <tr>\n",
       "      <th>934970</th>\n",
       "      <td>ffffe8b65bbe3087b653a978c870db99</td>\n",
       "      <td>2017-09-29 14:07:03</td>\n",
       "      <td>18.37</td>\n",
       "      <td>18.370001</td>\n",
       "    </tr>\n",
       "    <tr>\n",
       "      <th>934971</th>\n",
       "      <td>ffffe8b65bbe3087b653a978c870db99</td>\n",
       "      <td>2017-09-29 14:07:03</td>\n",
       "      <td>18.37</td>\n",
       "      <td>18.370001</td>\n",
       "    </tr>\n",
       "    <tr>\n",
       "      <th>934972</th>\n",
       "      <td>ffffe8b65bbe3087b653a978c870db99</td>\n",
       "      <td>2017-09-29 14:07:03</td>\n",
       "      <td>18.37</td>\n",
       "      <td>18.370001</td>\n",
       "    </tr>\n",
       "    <tr>\n",
       "      <th>934973</th>\n",
       "      <td>ffffe8b65bbe3087b653a978c870db99</td>\n",
       "      <td>2017-09-29 14:07:03</td>\n",
       "      <td>18.37</td>\n",
       "      <td>18.370001</td>\n",
       "    </tr>\n",
       "  </tbody>\n",
       "</table>\n",
       "<p>934974 rows × 4 columns</p>\n",
       "</div>"
      ],
      "text/plain": [
       "                             Customer ID           Time Stamp   Price  \\\n",
       "0       00012a2ce6f8dcda20d059ce98491703  2017-11-14 16:08:26  114.74   \n",
       "1       00012a2ce6f8dcda20d059ce98491703  2017-11-14 16:08:26  114.74   \n",
       "2       00012a2ce6f8dcda20d059ce98491703  2017-11-14 16:08:26  114.74   \n",
       "3       00012a2ce6f8dcda20d059ce98491703  2017-11-14 16:08:26  114.74   \n",
       "4       00012a2ce6f8dcda20d059ce98491703  2017-11-14 16:08:26  114.74   \n",
       "...                                  ...                  ...     ...   \n",
       "934969  ffffe8b65bbe3087b653a978c870db99  2017-09-29 14:07:03   18.37   \n",
       "934970  ffffe8b65bbe3087b653a978c870db99  2017-09-29 14:07:03   18.37   \n",
       "934971  ffffe8b65bbe3087b653a978c870db99  2017-09-29 14:07:03   18.37   \n",
       "934972  ffffe8b65bbe3087b653a978c870db99  2017-09-29 14:07:03   18.37   \n",
       "934973  ffffe8b65bbe3087b653a978c870db99  2017-09-29 14:07:03   18.37   \n",
       "\n",
       "        Moving Average  \n",
       "0           114.739998  \n",
       "1           114.739998  \n",
       "2           114.739998  \n",
       "3           114.739998  \n",
       "4           114.739998  \n",
       "...                ...  \n",
       "934969       18.370001  \n",
       "934970       18.370001  \n",
       "934971       18.370001  \n",
       "934972       18.370001  \n",
       "934973       18.370001  \n",
       "\n",
       "[934974 rows x 4 columns]"
      ]
     },
     "execution_count": 13,
     "metadata": {},
     "output_type": "execute_result"
    }
   ],
   "source": [
    "#A moving average calculates the mean of a subset of data points within a defined window.\n",
    "query=\"\"\"select customer_id, order_purchase_timestamp, payment,avg(payment) over(partition by customer_id order by order_purchase_timestamp\n",
    "rows between 2 preceding and current row) as mov_avg from \n",
    "(select o.customer_id, o.order_purchase_timestamp, p.payment_value as payment\n",
    "from ecommerce.orders o join ecommerce.payments p on o.order_id=p.order_id) as a;\"\"\"\n",
    "cur.execute(query)\n",
    "data=cur.fetchall()\n",
    "data\n",
    "df=pd.DataFrame(data,columns=[\"Customer ID\",\"Time Stamp\",\"Price\",\"Moving Average\"])\n",
    "df"
   ]
  },
  {
   "cell_type": "markdown",
   "id": "b6a81f3c-b74b-484c-b157-9443c4be0b95",
   "metadata": {},
   "source": [
    "# Calculate the cumulative sales per month for each year."
   ]
  },
  {
   "cell_type": "code",
   "execution_count": 21,
   "id": "a4d7ea49-50f0-403e-b5f5-f37617a39c28",
   "metadata": {},
   "outputs": [
    {
     "data": {
      "text/html": [
       "<div>\n",
       "<style scoped>\n",
       "    .dataframe tbody tr th:only-of-type {\n",
       "        vertical-align: middle;\n",
       "    }\n",
       "\n",
       "    .dataframe tbody tr th {\n",
       "        vertical-align: top;\n",
       "    }\n",
       "\n",
       "    .dataframe thead th {\n",
       "        text-align: right;\n",
       "    }\n",
       "</style>\n",
       "<table border=\"1\" class=\"dataframe\">\n",
       "  <thead>\n",
       "    <tr style=\"text-align: right;\">\n",
       "      <th></th>\n",
       "      <th>Year</th>\n",
       "      <th>Month</th>\n",
       "      <th>Payment</th>\n",
       "      <th>Cumulative Sales</th>\n",
       "    </tr>\n",
       "  </thead>\n",
       "  <tbody>\n",
       "    <tr>\n",
       "      <th>0</th>\n",
       "      <td>2016</td>\n",
       "      <td>9</td>\n",
       "      <td>2270.16</td>\n",
       "      <td>2270.16</td>\n",
       "    </tr>\n",
       "    <tr>\n",
       "      <th>1</th>\n",
       "      <td>2016</td>\n",
       "      <td>10</td>\n",
       "      <td>531814.32</td>\n",
       "      <td>534084.48</td>\n",
       "    </tr>\n",
       "    <tr>\n",
       "      <th>2</th>\n",
       "      <td>2016</td>\n",
       "      <td>12</td>\n",
       "      <td>176.58</td>\n",
       "      <td>534261.06</td>\n",
       "    </tr>\n",
       "    <tr>\n",
       "      <th>3</th>\n",
       "      <td>2017</td>\n",
       "      <td>1</td>\n",
       "      <td>1246392.36</td>\n",
       "      <td>1780653.42</td>\n",
       "    </tr>\n",
       "    <tr>\n",
       "      <th>4</th>\n",
       "      <td>2017</td>\n",
       "      <td>2</td>\n",
       "      <td>2627172.09</td>\n",
       "      <td>4407825.51</td>\n",
       "    </tr>\n",
       "    <tr>\n",
       "      <th>5</th>\n",
       "      <td>2017</td>\n",
       "      <td>3</td>\n",
       "      <td>4048772.40</td>\n",
       "      <td>8456597.91</td>\n",
       "    </tr>\n",
       "    <tr>\n",
       "      <th>6</th>\n",
       "      <td>2017</td>\n",
       "      <td>4</td>\n",
       "      <td>3760092.27</td>\n",
       "      <td>12216690.18</td>\n",
       "    </tr>\n",
       "    <tr>\n",
       "      <th>7</th>\n",
       "      <td>2017</td>\n",
       "      <td>5</td>\n",
       "      <td>5336269.38</td>\n",
       "      <td>17552959.56</td>\n",
       "    </tr>\n",
       "    <tr>\n",
       "      <th>8</th>\n",
       "      <td>2017</td>\n",
       "      <td>6</td>\n",
       "      <td>4601487.42</td>\n",
       "      <td>22154446.98</td>\n",
       "    </tr>\n",
       "    <tr>\n",
       "      <th>9</th>\n",
       "      <td>2017</td>\n",
       "      <td>7</td>\n",
       "      <td>5331446.28</td>\n",
       "      <td>27485893.26</td>\n",
       "    </tr>\n",
       "  </tbody>\n",
       "</table>\n",
       "</div>"
      ],
      "text/plain": [
       "   Year  Month     Payment  Cumulative Sales\n",
       "0  2016      9     2270.16           2270.16\n",
       "1  2016     10   531814.32         534084.48\n",
       "2  2016     12      176.58         534261.06\n",
       "3  2017      1  1246392.36        1780653.42\n",
       "4  2017      2  2627172.09        4407825.51\n",
       "5  2017      3  4048772.40        8456597.91\n",
       "6  2017      4  3760092.27       12216690.18\n",
       "7  2017      5  5336269.38       17552959.56\n",
       "8  2017      6  4601487.42       22154446.98\n",
       "9  2017      7  5331446.28       27485893.26"
      ]
     },
     "execution_count": 21,
     "metadata": {},
     "output_type": "execute_result"
    }
   ],
   "source": [
    "query=\"\"\"select years,months,payment,sum(payment) over(order by years,months) as cumulative_sales from\n",
    "(select year(o.order_purchase_timestamp) as years,\n",
    "month(o.order_purchase_timestamp) as months,\n",
    "round(sum(p.payment_value),2) as payment from ecommerce.orders as o join ecommerce.payments as p\n",
    "on o.order_id=p.order_id group by months,years order by months,years) as a;\"\"\"\n",
    "cur.execute(query)\n",
    "data=cur.fetchall()\n",
    "data\n",
    "df=pd.DataFrame(data,columns=[\"Year\",\"Month\",\"Payment\",\"Cumulative Sales\"])\n",
    "df.head(10)"
   ]
  },
  {
   "cell_type": "markdown",
   "id": "1d1b8e46-ed62-4d8e-94cf-2a72bf0f9e95",
   "metadata": {},
   "source": [
    "# Calculate the year-over-year growth rate of total sales."
   ]
  },
  {
   "cell_type": "code",
   "execution_count": 25,
   "id": "35b9d82f-3fdb-4b9b-a607-e8d2d722e6f0",
   "metadata": {},
   "outputs": [
    {
     "data": {
      "text/html": [
       "<div>\n",
       "<style scoped>\n",
       "    .dataframe tbody tr th:only-of-type {\n",
       "        vertical-align: middle;\n",
       "    }\n",
       "\n",
       "    .dataframe tbody tr th {\n",
       "        vertical-align: top;\n",
       "    }\n",
       "\n",
       "    .dataframe thead th {\n",
       "        text-align: right;\n",
       "    }\n",
       "</style>\n",
       "<table border=\"1\" class=\"dataframe\">\n",
       "  <thead>\n",
       "    <tr style=\"text-align: right;\">\n",
       "      <th></th>\n",
       "      <th>Year</th>\n",
       "      <th>YOY%growth</th>\n",
       "    </tr>\n",
       "  </thead>\n",
       "  <tbody>\n",
       "    <tr>\n",
       "      <th>0</th>\n",
       "      <td>2016</td>\n",
       "      <td>NaN</td>\n",
       "    </tr>\n",
       "    <tr>\n",
       "      <th>1</th>\n",
       "      <td>2017</td>\n",
       "      <td>65247620.55</td>\n",
       "    </tr>\n",
       "    <tr>\n",
       "      <th>2</th>\n",
       "      <td>2018</td>\n",
       "      <td>78297767.47</td>\n",
       "    </tr>\n",
       "  </tbody>\n",
       "</table>\n",
       "</div>"
      ],
      "text/plain": [
       "   Year   YOY%growth\n",
       "0  2016          NaN\n",
       "1  2017  65247620.55\n",
       "2  2018  78297767.47"
      ]
     },
     "execution_count": 25,
     "metadata": {},
     "output_type": "execute_result"
    }
   ],
   "source": [
    "query=\"\"\"select years,\n",
    "(payment-lag(payment,1) over (order by years)/lag(payment,1) over (order by years)*100) as yoy from \n",
    "(select year(o.order_purchase_timestamp) as years,\n",
    "round(sum(p.payment_value),2) as payment from ecommerce.orders as o join ecommerce.payments as p\n",
    "on o.order_id=p.order_id group by years order by years)as a;\"\"\"\n",
    "cur.execute(query)\n",
    "data=cur.fetchall()\n",
    "data\n",
    "df=pd.DataFrame(data,columns=[\"Year\",\"YOY%growth\"])\n",
    "df.head()"
   ]
  },
  {
   "cell_type": "markdown",
   "id": "2037f54e-4289-4718-8688-90576946ddc8",
   "metadata": {},
   "source": [
    "# Calculate the retention rate of customers, defined as the percentage of customers who make another purchase within 6 months of their first purchase."
   ]
  },
  {
   "cell_type": "code",
   "execution_count": 26,
   "id": "ab71c3fc-a654-4242-92ad-87e638d61d38",
   "metadata": {},
   "outputs": [
    {
     "data": {
      "text/plain": [
       "[(None,)]"
      ]
     },
     "execution_count": 26,
     "metadata": {},
     "output_type": "execute_result"
    }
   ],
   "source": [
    "query=\"\"\"with a as (select c.customer_id, min(o.order_purchase_timestamp) first_order\n",
    "from ecommerce.customers c join ecommerce.orders o on c.customer_id=o.customer_id group by c.customer_id),\n",
    "\n",
    "b as (select a.customer_id, count(distinct o.order_purchase_timestamp) from a join ecommerce.orders o on a.customer_id=o.customer_id\n",
    "and o.order_purchase_timestamp> first_order\n",
    "and o.order_purchase_timestamp < date_add(first_order,interval 6 month)\n",
    "group by customer_id)\n",
    "\n",
    "select 100*(count(distinct a.customer_id)/count(distinct b.customer_id)) from a left join b \n",
    "on a.customer_id=b.customer_id;\"\"\"\n",
    "cur.execute(query)\n",
    "data=cur.fetchall()\n",
    "data"
   ]
  },
  {
   "cell_type": "markdown",
   "id": "c8c01389-ba83-4a4f-a84b-7319d0cc3ff5",
   "metadata": {},
   "source": [
    "# Identify the top 3 customers who spent the most money in each year."
   ]
  },
  {
   "cell_type": "code",
   "execution_count": 32,
   "id": "88d01ee2-9ed2-4266-a240-bb1e0a1a5389",
   "metadata": {},
   "outputs": [
    {
     "data": {
      "image/png": "[encoded data removed]",
      "text/plain": [
       "<Figure size 640x480 with 1 Axes>"
      ]
     },
     "metadata": {},
     "output_type": "display_data"
    }
   ],
   "source": [
    "query=\"\"\"SELECT years, customer_id, payment, drank\n",
    "FROM (\n",
    "SELECT o.customer_id, YEAR(order_purchase_timestamp) AS years, SUM(p.payment_value) AS payment,\n",
    "DENSE_RANK() OVER ( PARTITION BY YEAR(o.order_purchase_timestamp)\n",
    "            ORDER BY SUM(p.payment_value) DESC) AS drank\n",
    "FROM ecommerce.orders o JOIN ecommerce.payments p ON o.order_id = p.order_id \n",
    "GROUP BY o.customer_id, YEAR(order_purchase_timestamp)) AS a WHERE drank <= 3;\"\"\"\n",
    "cur.execute(query)\n",
    "data=cur.fetchall()\n",
    "data\n",
    "df=pd.DataFrame(data,columns=[\"Year\",\"Customer ID\",\"Payment\",\"Rank\"])\n",
    "df\n",
    "sns.barplot(x=\"Customer ID\",y=\"Payment\" ,data=df,hue=\"Year\")\n",
    "plt.xticks(rotation=90)\n",
    "plt.show()"
   ]
  }
 ],
 "metadata": {
  "kernelspec": {
   "display_name": "Python 3 (ipykernel)",
   "language": "python",
   "name": "python3"
  },
  "language_info": {
   "codemirror_mode": {
    "name": "ipython",
    "version": 3
   },
   "file_extension": ".py",
   "mimetype": "text/x-python",
   "name": "python",
   "nbconvert_exporter": "python",
   "pygments_lexer": "ipython3",
   "version": "3.12.7"
  }
 },
 "nbformat": 4,
 "nbformat_minor": 5
}
